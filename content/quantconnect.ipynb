{
  "metadata": {
    "language_info": {
      "name": "python",
      "version": "3.10.0"
    }
  },
  "nbformat": 4,
  "nbformat_minor": 5,
  "cells": [
    {
      "cell_type": "markdown",
      "source": "# QuantConnect API Integration\n\nThis notebook provides an interface to the QuantConnect API for financial data analysis.",
      "metadata": {}
    },
    {
      "cell_type": "code",
      "source": "# Install required packages\n%pip install requests pandas numpy matplotlib",
      "metadata": {},
      "execution_count": null,
      "outputs": []
    },
    {
      "cell_type": "code",
      "source": "# Import libraries\nimport requests\nimport json\nimport pandas as pd\nimport numpy as np\nimport matplotlib.pyplot as plt\nfrom datetime import datetime, timedelta\n\n# Setup plotting\n%matplotlib inline\nplt.style.use('ggplot')\n\nprint(\"Libraries imported successfully!\")",
      "metadata": {},
      "execution_count": null,
      "outputs": []
    },
    {
      "cell_type": "code",
      "source": "class QuantConnectAPI:\n    \"\"\"Simple QuantConnect API wrapper\"\"\"\n    def __init__(self, api_key=None, api_secret=None):\n        self.api_url = \"https://api.quantconnect.com/api/v2\"\n        self.api_key = api_key\n        self.api_secret = api_secret\n        self.connected = False\n        \n        if api_key and api_secret:\n            self.test_connection()\n    \n    def test_connection(self):\n        \"\"\"Test the API connection\"\"\"\n        if not self.api_key or not self.api_secret:\n            print(\"❌ API credentials not set. Use set_credentials(api_key, api_secret)\")\n            return False\n            \n        try:\n            endpoint = \"/projects/list\"\n            response = self._api_request(\"GET\", endpoint)\n            \n            if response and \"projects\" in response:\n                print(f\"✅ Successfully connected to QuantConnect API\")\n                print(f\"   Found {len(response['projects'])} projects\")\n                self.connected = True\n                return True\n            else:\n                print(\"❌ Connection failed. Check credentials and try again.\")\n                return False\n        except Exception as e:\n            print(f\"❌ API Error: {str(e)}\")\n            return False\n    \n    def set_credentials(self, api_key, api_secret):\n        \"\"\"Set API credentials\"\"\"\n        self.api_key = api_key\n        self.api_secret = api_secret\n        return self.test_connection()\n    \n    def _api_request(self, method, endpoint, data=None):\n        \"\"\"Make an API request to QuantConnect\"\"\"\n        headers = {\n            'Content-Type': 'application/json'\n        }\n        \n        url = f\"{self.api_url}{endpoint}\"\n        \n        # Add authentication parameters\n        params = {\n            \"userId\": self.api_key\n        }\n        \n        if data is None:\n            data = {}\n        \n        # Add API secret to the data\n        data[\"token\"] = self.api_secret\n        \n        try:\n            if method.upper() == \"GET\":\n                response = requests.get(url, headers=headers, params=params, json=data)\n            elif method.upper() == \"POST\":\n                response = requests.post(url, headers=headers, params=params, json=data)\n            else:\n                raise ValueError(f\"Unsupported HTTP method: {method}\")\n            \n            if response.status_code == 200:\n                return response.json()\n            else:\n                print(f\"❌ API Error: Status {response.status_code}\")\n                print(f\"Response: {response.text}\")\n                return None\n        except Exception as e:\n            print(f\"❌ Request Error: {str(e)}\")\n            return None\n    \n    def get_data(self, symbol, resolution=\"daily\", start_date=None, end_date=None):\n        \"\"\"Get historical market data for a symbol\"\"\"\n        if not self.connected:\n            print(\"❌ Not connected. Call set_credentials() first.\")\n            return None\n            \n        # Set default dates if not provided\n        if not end_date:\n            end_date = datetime.now().strftime('%Y-%m-%d')\n        if not start_date:\n            # Default to 1 year ago\n            start_date = (datetime.now() - timedelta(days=365)).strftime('%Y-%m-%d')\n        \n        # Prepare data request\n        data = {\n            \"symbols\": [symbol],\n            \"resolution\": resolution,\n            \"start\": start_date,\n            \"end\": end_date\n        }\n        \n        response = self._api_request(\"POST\", \"/data/read\", data)\n        \n        if response and \"data\" in response and symbol in response[\"data\"]:\n            # Process the data into a DataFrame\n            symbol_data = response[\"data\"][symbol]\n            \n            if len(symbol_data) == 0:\n                print(f\"No data found for {symbol} in the specified date range\")\n                return pd.DataFrame()\n            \n            df = pd.DataFrame(symbol_data)\n            df['time'] = pd.to_datetime(df['time'])\n            df = df.set_index('time')\n            \n            print(f\"✅ Retrieved {len(df)} records for {symbol}\")\n            return df\n        else:\n            print(f\"❌ Failed to retrieve data for {symbol}\")\n            return None\n\n# Create an instance of QuantConnectAPI\nqc = QuantConnectAPI()\n\nprint(\"🚀 QuantConnect API utilities loaded successfully!\")",
      "metadata": {},
      "execution_count": null,
      "outputs": []
    },
    {
      "cell_type": "markdown",
      "source": "## Connect to QuantConnect API\n\nReplace with your actual API credentials:",
      "metadata": {}
    },
    {
      "cell_type": "code",
      "source": "# Enter your API credentials here\nAPI_KEY = \"YOUR_API_KEY\"\nAPI_SECRET = \"YOUR_API_SECRET\"\n\n# Connect to the API\nqc.set_credentials(API_KEY, API_SECRET)",
      "metadata": {},
      "execution_count": null,
      "outputs": []
    },
    {
      "cell_type": "markdown",
      "source": "## Get Stock Data\n\nFetch historical stock data for analysis:",
      "metadata": {}
    },
    {
      "cell_type": "code",
      "source": "# Get Apple stock data for the past year\napple_data = qc.get_data('AAPL')\n\n# Display the first few rows\nif apple_data is not None:\n    apple_data.head()",
      "metadata": {},
      "execution_count": null,
      "outputs": []
    },
    {
      "cell_type": "markdown",
      "source": "## Visualize the Data\n\nCreate a chart of the stock price:",
      "metadata": {}
    },
    {
      "cell_type": "code",
      "source": "# Plot Apple stock price\nif apple_data is not None and len(apple_data) > 0:\n    plt.figure(figsize=(12, 6))\n    plt.plot(apple_data.index, apple_data['close'], label='AAPL Close')\n    plt.title('Apple Stock Price')\n    plt.xlabel('Date')\n    plt.ylabel('Price ($)')\n    plt.legend()\n    plt.grid(True)\n    plt.show()",
      "metadata": {},
      "execution_count": null,
      "outputs": []
    },
    {
      "cell_type": "markdown",
      "source": "## Advanced Analysis Example\n\nCalculate moving averages and visualize:",
      "metadata": {}
    },
    {
      "cell_type": "code",
      "source": "# Calculate moving averages\nif apple_data is not None and len(apple_data) > 0:\n    # Calculate 20-day and 50-day moving averages\n    apple_data['MA20'] = apple_data['close'].rolling(window=20).mean()\n    apple_data['MA50'] = apple_data['close'].rolling(window=50).mean()\n    \n    # Plot price with moving averages\n    plt.figure(figsize=(14, 7))\n    plt.plot(apple_data.index, apple_data['close'], label='AAPL Close', linewidth=1)\n    plt.plot(apple_data.index, apple_data['MA20'], label='20-day MA', linewidth=1.5)\n    plt.plot(apple_data.index, apple_data['MA50'], label='50-day MA', linewidth=1.5)\n    plt.title('Apple Stock Price with Moving Averages')\n    plt.xlabel('Date')\n    plt.ylabel('Price ($)')\n    plt.legend()\n    plt.grid(True)\n    plt.show()\n    \n    # Display summary statistics\n    print(\"\\nSummary Statistics:\")\n    print(apple_data[['close', 'MA20', 'MA50']].describe())",
      "metadata": {},
      "execution_count": null,
      "outputs": []
    }
  ]
}
